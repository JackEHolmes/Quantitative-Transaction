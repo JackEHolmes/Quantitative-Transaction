{
 "cells": [
  {
   "cell_type": "markdown",
   "metadata": {},
   "source": [
    "# Positive alpha trading strategy"
   ]
  },
  {
   "cell_type": "markdown",
   "metadata": {},
   "source": [
    ">1. 总资产的50%用来做多，50%用来做空。  \n",
    ">- 做空部分买3只股票，并使用Two-fund theorm，分离w1和w2。  \n",
    ">- 确定w1和w2的组合比例，使w1与w2组合的Beta值与做多部分的股票Beta值相等。"
   ]
  },
  {
   "cell_type": "code",
   "execution_count": 1,
   "metadata": {
    "ExecuteTime": {
     "end_time": "2019-06-23T08:14:18.204516Z",
     "start_time": "2019-06-23T08:14:16.586333Z"
    }
   },
   "outputs": [],
   "source": [
    "import numpy as np\n",
    "import pandas as pd\n",
    "import matplotlib.pyplot as plt\n",
    "import seaborn as sns\n",
    "import os\n",
    "import warnings\n",
    "import cvxpy\n",
    "import re\n",
    "import time\n",
    "from urllib import request\n",
    "#from pandas_datareader import DataReader\n",
    "import yfinance as yf\n",
    "warnings.simplefilter(\"ignore\")"
   ]
  },
  {
   "cell_type": "code",
   "execution_count": 2,
   "metadata": {
    "ExecuteTime": {
     "end_time": "2019-06-23T08:14:18.209510Z",
     "start_time": "2019-06-23T08:14:18.206917Z"
    }
   },
   "outputs": [],
   "source": [
    "start = '2017-01-01'\n",
    "end = time.strftime('%Y-%m-%d')"
   ]
  },
  {
   "cell_type": "code",
   "execution_count": 3,
   "metadata": {
    "ExecuteTime": {
     "end_time": "2019-06-23T08:14:18.219059Z",
     "start_time": "2019-06-23T08:14:18.212443Z"
    },
    "code_folding": []
   },
   "outputs": [],
   "source": [
    "def download_data(tickers, start, end, path = 'data'):\n",
    "    '''\n",
    "    下载股票数据\n",
    "    '''\n",
    "    if not os.path.exists(path):\n",
    "        os.mkdir(path)\n",
    "    for ticker in tickers:\n",
    "        #data = DataReader(ticker, 'yahoo', start=start, end=end)\n",
    "        data = yf.Ticker(ticker).history(start=start, end=end)\n",
    "        data.to_csv(path+'/'+ticker+'.csv')\n",
    "        print('{:<15}\\tlength:{}'.format(ticker, len(data)))\n",
    "    print('Done!')"
   ]
  },
  {
   "cell_type": "code",
   "execution_count": 4,
   "metadata": {
    "ExecuteTime": {
     "end_time": "2019-06-23T08:14:18.227955Z",
     "start_time": "2019-06-23T08:14:18.222543Z"
    }
   },
   "outputs": [],
   "source": [
    "def get_beta(tickers, path='data',pr=True):\n",
    "    '''\n",
    "    爬取股票Beta值\n",
    "    '''\n",
    "    beta=[]\n",
    "    url = 'https://finance.yahoo.com/quote/'\n",
    "    for ticker in tickers:\n",
    "        content = request.urlopen(url+ticker).read().decode(\"utf-8\")\n",
    "        reg = re.compile(r'data-reactid=\"62\">(.*?)</span></td></tr><tr', re.S)\n",
    "        b = float(re.findall(reg, content)[0])\n",
    "        beta.append(b)\n",
    "        # print('{:<15}\\t{}'.format(ticker, b))\n",
    "    return np.array(beta)"
   ]
  },
  {
   "cell_type": "code",
   "execution_count": 5,
   "metadata": {
    "ExecuteTime": {
     "end_time": "2019-06-22T08:43:53.411613Z",
     "start_time": "2019-06-22T08:43:33.587351Z"
    }
   },
   "outputs": [
    {
     "name": "stdout",
     "output_type": "stream",
     "text": [
      "AMD            \tlength:621\n",
      "STX            \tlength:621\n",
      "INTC           \tlength:621\n",
      "TSLA           \tlength:621\n",
      "AAPL           \tlength:621\n",
      "NVDA           \tlength:621\n",
      "SNE            \tlength:621\n",
      "AMZN           \tlength:621\n",
      "FB             \tlength:621\n",
      "GOOG           \tlength:621\n",
      "BABA           \tlength:621\n",
      "JD             \tlength:621\n",
      "WB             \tlength:621\n",
      "NTES           \tlength:621\n",
      "TWTR           \tlength:621\n",
      "Done!\n"
     ]
    }
   ],
   "source": [
    "tickers = ['AMD', 'STX', 'INTC','TSLA','AAPL','NVDA','SNE','AMZN', 'FB', 'GOOG','BABA','JD','WB','NTES','TWTR']\n",
    "download_data(tickers, start, end)"
   ]
  },
  {
   "cell_type": "code",
   "execution_count": 6,
   "metadata": {
    "ExecuteTime": {
     "end_time": "2019-06-22T08:46:34.991731Z",
     "start_time": "2019-06-22T08:43:53.418083Z"
    }
   },
   "outputs": [
    {
     "data": {
      "text/plain": [
       "<matplotlib.axes._subplots.AxesSubplot at 0x1a1b4c3e48>"
      ]
     },
     "execution_count": 6,
     "metadata": {},
     "output_type": "execute_result"
    },
    {
     "data": {
      "image/png": "[encoded data removed]",
      "text/plain": [
       "<Figure size 432x288 with 1 Axes>"
      ]
     },
     "metadata": {
      "needs_background": "light"
     },
     "output_type": "display_data"
    }
   ],
   "source": [
    "beta = get_beta(tickers)\n",
    "beta_pd = pd.DataFrame(beta,index=tickers, columns=['beta']).sort_values('beta',ascending=False).T\n",
    "beta_pd.to_csv('data/beta.csv')\n",
    "sns.barplot(beta_pd.loc['beta',:], beta_pd.columns)"
   ]
  },
  {
   "cell_type": "code",
   "execution_count": 5,
   "metadata": {
    "ExecuteTime": {
     "end_time": "2019-06-23T08:14:18.269612Z",
     "start_time": "2019-06-23T08:14:18.230287Z"
    },
    "scrolled": true
   },
   "outputs": [
    {
     "data": {
      "text/html": [
       "<div>\n",
       "<style scoped>\n",
       "    .dataframe tbody tr th:only-of-type {\n",
       "        vertical-align: middle;\n",
       "    }\n",
       "\n",
       "    .dataframe tbody tr th {\n",
       "        vertical-align: top;\n",
       "    }\n",
       "\n",
       "    .dataframe thead th {\n",
       "        text-align: right;\n",
       "    }\n",
       "</style>\n",
       "<table border=\"1\" class=\"dataframe\">\n",
       "  <thead>\n",
       "    <tr style=\"text-align: right;\">\n",
       "      <th></th>\n",
       "      <th>AMD</th>\n",
       "      <th>NVDA</th>\n",
       "      <th>WB</th>\n",
       "      <th>STX</th>\n",
       "      <th>BABA</th>\n",
       "      <th>AMZN</th>\n",
       "      <th>FB</th>\n",
       "      <th>JD</th>\n",
       "      <th>GOOG</th>\n",
       "      <th>AAPL</th>\n",
       "      <th>SNE</th>\n",
       "      <th>NTES</th>\n",
       "      <th>INTC</th>\n",
       "      <th>TWTR</th>\n",
       "      <th>TSLA</th>\n",
       "    </tr>\n",
       "  </thead>\n",
       "  <tbody>\n",
       "    <tr>\n",
       "      <th>beta</th>\n",
       "      <td>3.68</td>\n",
       "      <td>2.5</td>\n",
       "      <td>1.97</td>\n",
       "      <td>1.91</td>\n",
       "      <td>1.85</td>\n",
       "      <td>1.73</td>\n",
       "      <td>1.33</td>\n",
       "      <td>1.32</td>\n",
       "      <td>1.14</td>\n",
       "      <td>1.03</td>\n",
       "      <td>1.01</td>\n",
       "      <td>0.61</td>\n",
       "      <td>0.6</td>\n",
       "      <td>0.17</td>\n",
       "      <td>0.03</td>\n",
       "    </tr>\n",
       "  </tbody>\n",
       "</table>\n",
       "</div>"
      ],
      "text/plain": [
       "       AMD  NVDA    WB   STX  BABA  AMZN    FB    JD  GOOG  AAPL   SNE  NTES  \\\n",
       "beta  3.68   2.5  1.97  1.91  1.85  1.73  1.33  1.32  1.14  1.03  1.01  0.61   \n",
       "\n",
       "      INTC  TWTR  TSLA  \n",
       "beta   0.6  0.17  0.03  "
      ]
     },
     "execution_count": 5,
     "metadata": {},
     "output_type": "execute_result"
    }
   ],
   "source": [
    "beta_pd = pd.read_csv('data/beta.csv',index_col=0)\n",
    "beta_pd"
   ]
  },
  {
   "cell_type": "markdown",
   "metadata": {},
   "source": [
    "# 投资组合：\n",
    "买入：Sony（SNE）  \n",
    "卖空：Intel（INTC）、网易（NTES）、Facebook（FB）"
   ]
  },
  {
   "cell_type": "code",
   "execution_count": 6,
   "metadata": {
    "ExecuteTime": {
     "end_time": "2019-06-23T08:14:18.274861Z",
     "start_time": "2019-06-23T08:14:18.271799Z"
    },
    "scrolled": false
   },
   "outputs": [],
   "source": [
    "tickers_long = ['SNE']\n",
    "tickers_short = ['INTC', 'NTES', 'FB']"
   ]
  },
  {
   "cell_type": "markdown",
   "metadata": {},
   "source": [
    "## 卖空的组合"
   ]
  },
  {
   "cell_type": "code",
   "execution_count": 7,
   "metadata": {
    "ExecuteTime": {
     "end_time": "2019-06-23T08:14:18.304397Z",
     "start_time": "2019-06-23T08:14:18.279416Z"
    },
    "scrolled": false
   },
   "outputs": [
    {
     "data": {
      "text/html": [
       "<div>\n",
       "<style scoped>\n",
       "    .dataframe tbody tr th:only-of-type {\n",
       "        vertical-align: middle;\n",
       "    }\n",
       "\n",
       "    .dataframe tbody tr th {\n",
       "        vertical-align: top;\n",
       "    }\n",
       "\n",
       "    .dataframe thead th {\n",
       "        text-align: right;\n",
       "    }\n",
       "</style>\n",
       "<table border=\"1\" class=\"dataframe\">\n",
       "  <thead>\n",
       "    <tr style=\"text-align: right;\">\n",
       "      <th></th>\n",
       "      <th>INTC</th>\n",
       "      <th>NTES</th>\n",
       "      <th>FB</th>\n",
       "    </tr>\n",
       "    <tr>\n",
       "      <th>Date</th>\n",
       "      <th></th>\n",
       "      <th></th>\n",
       "      <th></th>\n",
       "    </tr>\n",
       "  </thead>\n",
       "  <tbody>\n",
       "    <tr>\n",
       "      <th>2017-01-03</th>\n",
       "      <td>34.29</td>\n",
       "      <td>212.95</td>\n",
       "      <td>116.86</td>\n",
       "    </tr>\n",
       "    <tr>\n",
       "      <th>2017-01-04</th>\n",
       "      <td>34.11</td>\n",
       "      <td>213.48</td>\n",
       "      <td>118.69</td>\n",
       "    </tr>\n",
       "    <tr>\n",
       "      <th>2017-01-05</th>\n",
       "      <td>34.06</td>\n",
       "      <td>223.74</td>\n",
       "      <td>120.67</td>\n",
       "    </tr>\n",
       "    <tr>\n",
       "      <th>2017-01-06</th>\n",
       "      <td>34.18</td>\n",
       "      <td>221.54</td>\n",
       "      <td>123.41</td>\n",
       "    </tr>\n",
       "    <tr>\n",
       "      <th>2017-01-09</th>\n",
       "      <td>34.30</td>\n",
       "      <td>229.29</td>\n",
       "      <td>124.90</td>\n",
       "    </tr>\n",
       "  </tbody>\n",
       "</table>\n",
       "</div>"
      ],
      "text/plain": [
       "             INTC    NTES      FB\n",
       "Date                             \n",
       "2017-01-03  34.29  212.95  116.86\n",
       "2017-01-04  34.11  213.48  118.69\n",
       "2017-01-05  34.06  223.74  120.67\n",
       "2017-01-06  34.18  221.54  123.41\n",
       "2017-01-09  34.30  229.29  124.90"
      ]
     },
     "execution_count": 7,
     "metadata": {},
     "output_type": "execute_result"
    }
   ],
   "source": [
    "tickers_pd = pd.DataFrame()\n",
    "for t in tickers_short:\n",
    "    tickers_pd[t]=pd.read_csv('data/'+t+'.csv',index_col='Date')['Close']\n",
    "tickers_pd.head()"
   ]
  },
  {
   "cell_type": "code",
   "execution_count": 8,
   "metadata": {
    "ExecuteTime": {
     "end_time": "2019-06-23T08:14:18.330722Z",
     "start_time": "2019-06-23T08:14:18.308397Z"
    }
   },
   "outputs": [
    {
     "data": {
      "text/html": [
       "<div>\n",
       "<style scoped>\n",
       "    .dataframe tbody tr th:only-of-type {\n",
       "        vertical-align: middle;\n",
       "    }\n",
       "\n",
       "    .dataframe tbody tr th {\n",
       "        vertical-align: top;\n",
       "    }\n",
       "\n",
       "    .dataframe thead th {\n",
       "        text-align: right;\n",
       "    }\n",
       "</style>\n",
       "<table border=\"1\" class=\"dataframe\">\n",
       "  <thead>\n",
       "    <tr style=\"text-align: right;\">\n",
       "      <th></th>\n",
       "      <th>INTC</th>\n",
       "      <th>NTES</th>\n",
       "      <th>FB</th>\n",
       "    </tr>\n",
       "    <tr>\n",
       "      <th>Date</th>\n",
       "      <th></th>\n",
       "      <th></th>\n",
       "      <th></th>\n",
       "    </tr>\n",
       "  </thead>\n",
       "  <tbody>\n",
       "    <tr>\n",
       "      <th>2017-01-04</th>\n",
       "      <td>-0.005249</td>\n",
       "      <td>0.002489</td>\n",
       "      <td>0.015660</td>\n",
       "    </tr>\n",
       "    <tr>\n",
       "      <th>2017-01-05</th>\n",
       "      <td>-0.001466</td>\n",
       "      <td>0.048061</td>\n",
       "      <td>0.016682</td>\n",
       "    </tr>\n",
       "    <tr>\n",
       "      <th>2017-01-06</th>\n",
       "      <td>0.003523</td>\n",
       "      <td>-0.009833</td>\n",
       "      <td>0.022707</td>\n",
       "    </tr>\n",
       "    <tr>\n",
       "      <th>2017-01-09</th>\n",
       "      <td>0.003511</td>\n",
       "      <td>0.034982</td>\n",
       "      <td>0.012074</td>\n",
       "    </tr>\n",
       "    <tr>\n",
       "      <th>2017-01-10</th>\n",
       "      <td>-0.002041</td>\n",
       "      <td>0.021632</td>\n",
       "      <td>-0.004404</td>\n",
       "    </tr>\n",
       "  </tbody>\n",
       "</table>\n",
       "</div>"
      ],
      "text/plain": [
       "                INTC      NTES        FB\n",
       "Date                                    \n",
       "2017-01-04 -0.005249  0.002489  0.015660\n",
       "2017-01-05 -0.001466  0.048061  0.016682\n",
       "2017-01-06  0.003523 -0.009833  0.022707\n",
       "2017-01-09  0.003511  0.034982  0.012074\n",
       "2017-01-10 -0.002041  0.021632 -0.004404"
      ]
     },
     "execution_count": 8,
     "metadata": {},
     "output_type": "execute_result"
    }
   ],
   "source": [
    "tickers_pcf = tickers_pd.pct_change().dropna()\n",
    "tickers_pcf.head()"
   ]
  },
  {
   "cell_type": "code",
   "execution_count": 9,
   "metadata": {
    "ExecuteTime": {
     "end_time": "2019-06-23T08:14:18.347271Z",
     "start_time": "2019-06-23T08:14:18.332842Z"
    }
   },
   "outputs": [
    {
     "data": {
      "text/html": [
       "<div>\n",
       "<style scoped>\n",
       "    .dataframe tbody tr th:only-of-type {\n",
       "        vertical-align: middle;\n",
       "    }\n",
       "\n",
       "    .dataframe tbody tr th {\n",
       "        vertical-align: top;\n",
       "    }\n",
       "\n",
       "    .dataframe thead th {\n",
       "        text-align: right;\n",
       "    }\n",
       "</style>\n",
       "<table border=\"1\" class=\"dataframe\">\n",
       "  <thead>\n",
       "    <tr style=\"text-align: right;\">\n",
       "      <th></th>\n",
       "      <th>INTC</th>\n",
       "      <th>NTES</th>\n",
       "      <th>FB</th>\n",
       "    </tr>\n",
       "  </thead>\n",
       "  <tbody>\n",
       "    <tr>\n",
       "      <th>INTC</th>\n",
       "      <td>0.000300</td>\n",
       "      <td>0.000119</td>\n",
       "      <td>0.000121</td>\n",
       "    </tr>\n",
       "    <tr>\n",
       "      <th>NTES</th>\n",
       "      <td>0.000119</td>\n",
       "      <td>0.000590</td>\n",
       "      <td>0.000141</td>\n",
       "    </tr>\n",
       "    <tr>\n",
       "      <th>FB</th>\n",
       "      <td>0.000121</td>\n",
       "      <td>0.000141</td>\n",
       "      <td>0.000362</td>\n",
       "    </tr>\n",
       "  </tbody>\n",
       "</table>\n",
       "</div>"
      ],
      "text/plain": [
       "          INTC      NTES        FB\n",
       "INTC  0.000300  0.000119  0.000121\n",
       "NTES  0.000119  0.000590  0.000141\n",
       "FB    0.000121  0.000141  0.000362"
      ]
     },
     "execution_count": 9,
     "metadata": {},
     "output_type": "execute_result"
    }
   ],
   "source": [
    "sigma = tickers_pcf.cov()\n",
    "sigma # 协方差矩阵"
   ]
  },
  {
   "cell_type": "code",
   "execution_count": 10,
   "metadata": {
    "ExecuteTime": {
     "end_time": "2019-06-23T08:14:18.355233Z",
     "start_time": "2019-06-23T08:14:18.349670Z"
    }
   },
   "outputs": [],
   "source": [
    "# Two-fund theorm\n",
    "P = sigma.values\n",
    "rr = tickers_pcf.mean().values\n",
    "ee = np.ones(3)\n",
    "inv_P=np.linalg.inv(P)\n",
    "cee=np.dot(np.dot(ee.T,inv_P),ee)\n",
    "cer=np.dot(np.dot(rr.T,inv_P),ee)"
   ]
  },
  {
   "cell_type": "code",
   "execution_count": 11,
   "metadata": {
    "ExecuteTime": {
     "end_time": "2019-06-23T08:14:18.363070Z",
     "start_time": "2019-06-23T08:14:18.357444Z"
    }
   },
   "outputs": [
    {
     "name": "stdout",
     "output_type": "stream",
     "text": [
      "[0.48433405 0.17221495 0.343451  ] [0.33697595 0.08010919 0.58291486]\n"
     ]
    }
   ],
   "source": [
    "v1=np.dot(inv_P,ee)\n",
    "w1=v1/cee\n",
    "v2=np.dot(inv_P,rr)\n",
    "w2=v2/cer\n",
    "print(w1, w2)"
   ]
  },
  {
   "cell_type": "code",
   "execution_count": 12,
   "metadata": {
    "ExecuteTime": {
     "end_time": "2019-06-23T08:14:18.381822Z",
     "start_time": "2019-06-23T08:14:18.366043Z"
    },
    "scrolled": true
   },
   "outputs": [
    {
     "data": {
      "text/html": [
       "<div>\n",
       "<style scoped>\n",
       "    .dataframe tbody tr th:only-of-type {\n",
       "        vertical-align: middle;\n",
       "    }\n",
       "\n",
       "    .dataframe tbody tr th {\n",
       "        vertical-align: top;\n",
       "    }\n",
       "\n",
       "    .dataframe thead th {\n",
       "        text-align: right;\n",
       "    }\n",
       "</style>\n",
       "<table border=\"1\" class=\"dataframe\">\n",
       "  <thead>\n",
       "    <tr style=\"text-align: right;\">\n",
       "      <th></th>\n",
       "      <th>INTC</th>\n",
       "      <th>NTES</th>\n",
       "      <th>FB</th>\n",
       "    </tr>\n",
       "  </thead>\n",
       "  <tbody>\n",
       "    <tr>\n",
       "      <th>beta</th>\n",
       "      <td>0.6</td>\n",
       "      <td>0.61</td>\n",
       "      <td>1.33</td>\n",
       "    </tr>\n",
       "  </tbody>\n",
       "</table>\n",
       "</div>"
      ],
      "text/plain": [
       "      INTC  NTES    FB\n",
       "beta   0.6  0.61  1.33"
      ]
     },
     "execution_count": 12,
     "metadata": {},
     "output_type": "execute_result"
    }
   ],
   "source": [
    "beta_original = beta_pd[tickers_pd.columns]\n",
    "beta_original"
   ]
  },
  {
   "cell_type": "code",
   "execution_count": 13,
   "metadata": {
    "ExecuteTime": {
     "end_time": "2019-06-23T08:14:18.392788Z",
     "start_time": "2019-06-23T08:14:18.384825Z"
    },
    "scrolled": false
   },
   "outputs": [
    {
     "name": "stdout",
     "output_type": "stream",
     "text": [
      "做多股票的Beta：[1.01]\n",
      "组合W1的Beta：[0.85244138]\n",
      "组合W2的Beta：[1.02632894]\n"
     ]
    }
   ],
   "source": [
    "beta_long = beta_pd[tickers_long[0]].values\n",
    "beta1 = np.dot(w1, beta_original.T)\n",
    "beta2 = np.dot(w2, beta_original.T)\n",
    "print('做多股票的Beta：{}\\n组合W1的Beta：{}\\n组合W2的Beta：{}'.format(beta_long, beta1, beta2))"
   ]
  },
  {
   "cell_type": "code",
   "execution_count": 14,
   "metadata": {
    "ExecuteTime": {
     "end_time": "2019-06-23T08:14:18.420512Z",
     "start_time": "2019-06-23T08:14:18.395738Z"
    }
   },
   "outputs": [
    {
     "data": {
      "text/plain": [
       "array([0.09390516])"
      ]
     },
     "execution_count": 14,
     "metadata": {},
     "output_type": "execute_result"
    }
   ],
   "source": [
    "# 解方程 x*beta1+(1-x)*beta2 = beta_long    \n",
    "x = cvxpy.Variable(1)\n",
    "loss = cvxpy.abs(x*beta1+(1-x)*beta2-beta_long)\n",
    "prob = cvxpy.Problem(cvxpy.Minimize(loss))\n",
    "prob.solve()\n",
    "x.value"
   ]
  },
  {
   "cell_type": "code",
   "execution_count": 15,
   "metadata": {
    "ExecuteTime": {
     "end_time": "2019-06-23T08:14:18.425566Z",
     "start_time": "2019-06-23T08:14:18.422711Z"
    }
   },
   "outputs": [],
   "source": [
    "beta_short = x.value*beta1+(1-x.value)*beta2"
   ]
  },
  {
   "cell_type": "code",
   "execution_count": 16,
   "metadata": {
    "ExecuteTime": {
     "end_time": "2019-06-23T08:14:18.433015Z",
     "start_time": "2019-06-23T08:14:18.427708Z"
    },
    "scrolled": false
   },
   "outputs": [
    {
     "name": "stdout",
     "output_type": "stream",
     "text": [
      "做多股票Beta：[1.01]\n",
      "做空组合Beta：[1.01]\n"
     ]
    }
   ],
   "source": [
    "print('做多股票Beta：{}\\n做空组合Beta：{}'.format(beta_long, beta_short))"
   ]
  },
  {
   "cell_type": "code",
   "execution_count": 17,
   "metadata": {
    "ExecuteTime": {
     "end_time": "2019-06-23T08:14:18.440639Z",
     "start_time": "2019-06-23T08:14:18.436013Z"
    },
    "scrolled": true
   },
   "outputs": [
    {
     "name": "stdout",
     "output_type": "stream",
     "text": [
      "做空组合权重： [0.35081364 0.0887584  0.56042797]\n"
     ]
    }
   ],
   "source": [
    "short_w = x.value*w1+(1-x.value)*w2\n",
    "print('做空组合权重：',short_w)"
   ]
  },
  {
   "cell_type": "markdown",
   "metadata": {
    "ExecuteTime": {
     "end_time": "2019-06-22T08:14:36.994018Z",
     "start_time": "2019-06-22T08:14:36.991749Z"
    }
   },
   "source": [
    "# 最终Positive Alpha策略组合"
   ]
  },
  {
   "cell_type": "code",
   "execution_count": 18,
   "metadata": {
    "ExecuteTime": {
     "end_time": "2019-06-23T08:14:18.449708Z",
     "start_time": "2019-06-23T08:14:18.443784Z"
    }
   },
   "outputs": [
    {
     "name": "stdout",
     "output_type": "stream",
     "text": [
      "买入：SNE   \t50.00%\n",
      "卖空：INTC  \t17.54%\n",
      "卖空：NTES  \t4.44%\n",
      "卖空：FB    \t28.02%\n"
     ]
    }
   ],
   "source": [
    "print('买入：{:6}\\t50.00%'.format(tickers_long[0]))\n",
    "for t, w in zip(tickers_short, short_w):\n",
    "    print('卖空：{:6}\\t{:.2f}%'.format(t,w*50))"
   ]
  },
  {
   "cell_type": "markdown",
   "metadata": {},
   "source": [
    "# 投资组合收益表现"
   ]
  },
  {
   "cell_type": "code",
   "execution_count": 19,
   "metadata": {
    "ExecuteTime": {
     "end_time": "2019-06-23T08:14:18.456600Z",
     "start_time": "2019-06-23T08:14:18.452163Z"
    }
   },
   "outputs": [
    {
     "data": {
      "text/plain": [
       "array([0.35081364, 0.0887584 , 0.56042797])"
      ]
     },
     "execution_count": 19,
     "metadata": {},
     "output_type": "execute_result"
    }
   ],
   "source": [
    "short_w"
   ]
  },
  {
   "cell_type": "code",
   "execution_count": 20,
   "metadata": {
    "ExecuteTime": {
     "end_time": "2019-06-23T08:14:18.472606Z",
     "start_time": "2019-06-23T08:14:18.459168Z"
    }
   },
   "outputs": [],
   "source": [
    "tickers_long_pcf = pd.read_csv('data/'+tickers_long[0]+'.csv',index_col='Date')['Close'].pct_change().dropna()"
   ]
  },
  {
   "cell_type": "code",
   "execution_count": 21,
   "metadata": {
    "ExecuteTime": {
     "end_time": "2019-06-23T08:14:18.480619Z",
     "start_time": "2019-06-23T08:14:18.474514Z"
    }
   },
   "outputs": [
    {
     "name": "stdout",
     "output_type": "stream",
     "text": [
      "日平均收益率: 0.0001799056443257842\n"
     ]
    }
   ],
   "source": [
    "daily_return = 0.5*tickers_long_pcf-np.dot(short_w, tickers_pcf.T)*0.5\n",
    "print('日平均收益率:',daily_return.mean())"
   ]
  },
  {
   "cell_type": "code",
   "execution_count": 22,
   "metadata": {
    "ExecuteTime": {
     "end_time": "2019-06-23T08:14:18.849060Z",
     "start_time": "2019-06-23T08:14:18.482703Z"
    },
    "scrolled": true
   },
   "outputs": [
    {
     "data": {
      "text/plain": [
       "Text(0.5, 1.0, 'Daily return distribution')"
      ]
     },
     "execution_count": 22,
     "metadata": {},
     "output_type": "execute_result"
    },
    {
     "data": {
      "image/png": "[encoded data removed]",
      "text/plain": [
       "<Figure size 432x288 with 1 Axes>"
      ]
     },
     "metadata": {
      "needs_background": "light"
     },
     "output_type": "display_data"
    }
   ],
   "source": [
    "sns.distplot(daily_return, bins=100)\n",
    "plt.title('Daily return distribution')"
   ]
  },
  {
   "cell_type": "code",
   "execution_count": 23,
   "metadata": {
    "ExecuteTime": {
     "end_time": "2019-06-23T08:14:19.844945Z",
     "start_time": "2019-06-23T08:14:18.850881Z"
    }
   },
   "outputs": [],
   "source": [
    "gspc = yf.Ticker('^GSPC').history(start=start, end=end)['Close']  # 获取标普500指数\n",
    "gspc_f =  gspc/gspc[0]"
   ]
  },
  {
   "cell_type": "code",
   "execution_count": 24,
   "metadata": {
    "ExecuteTime": {
     "end_time": "2019-06-23T08:14:20.157596Z",
     "start_time": "2019-06-23T08:14:19.847583Z"
    },
    "scrolled": false
   },
   "outputs": [
    {
     "data": {
      "text/plain": [
       "<matplotlib.legend.Legend at 0x1a1ee427b8>"
      ]
     },
     "execution_count": 24,
     "metadata": {},
     "output_type": "execute_result"
    },
    {
     "data": {
      "image/png": "[encoded data removed]",
      "text/plain": [
       "<Figure size 1080x720 with 1 Axes>"
      ]
     },
     "metadata": {
      "needs_background": "light"
     },
     "output_type": "display_data"
    }
   ],
   "source": [
    "plt.figure(figsize=(15,10))\n",
    "plt.plot(pd.to_datetime(tickers_pcf.index.values), np.cumprod(daily_return+1), label='Portfolio')\n",
    "plt.plot(gspc_f, label='S&P 500')\n",
    "plt.grid()\n",
    "plt.legend()"
   ]
  },
  {
   "cell_type": "code",
   "execution_count": 25,
   "metadata": {
    "ExecuteTime": {
     "end_time": "2019-06-23T08:14:20.588732Z",
     "start_time": "2019-06-23T08:14:20.160794Z"
    },
    "scrolled": true
   },
   "outputs": [
    {
     "data": {
      "image/png": "[encoded data removed]",
      "text/plain": [
       "<Figure size 1080x576 with 1 Axes>"
      ]
     },
     "metadata": {
      "needs_background": "light"
     },
     "output_type": "display_data"
    }
   ],
   "source": [
    "# 近n天日收益率表现\n",
    "plt.figure(figsize=(15,8))\n",
    "color = []\n",
    "n=45\n",
    "for i in daily_return[-n:]:\n",
    "    if i>0:\n",
    "        color.append('g')\n",
    "    else:\n",
    "        color.append('r')\n",
    "plt.bar([i[-5:] for i in tickers_pcf.index.values[-n:]], daily_return[-n:], color=color)\n",
    "plt.xticks(rotation=45)\n",
    "plt.title('Nearly {} days daily return'.format(n))\n",
    "plt.show()"
   ]
  }
 ],
 "metadata": {
  "kernelspec": {
   "display_name": "Python 3",
   "language": "python",
   "name": "python3"
  },
  "language_info": {
   "codemirror_mode": {
    "name": "ipython",
    "version": 3
   },
   "file_extension": ".py",
   "mimetype": "text/x-python",
   "name": "python",
   "nbconvert_exporter": "python",
   "pygments_lexer": "ipython3",
   "version": "3.6.8"
  },
  "toc": {
   "base_numbering": 1,
   "nav_menu": {},
   "number_sections": true,
   "sideBar": true,
   "skip_h1_title": false,
   "title_cell": "Table of Contents",
   "title_sidebar": "Contents",
   "toc_cell": false,
   "toc_position": {},
   "toc_section_display": true,
   "toc_window_display": false
  }
 },
 "nbformat": 4,
 "nbformat_minor": 2
}

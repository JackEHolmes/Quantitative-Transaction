{
 "cells": [
  {
   "cell_type": "markdown",
   "metadata": {},
   "source": [
    "## **量化投资管理**与**传统投资管理**区别：  \n",
    "- **传统投资管理**依赖对上市公司的调研，以及基金经理个人的经验及主观判断。\n",
    "- **量化投资管理**是“定性思想的量化应用，更加强调数据"
   ]
  },
  {
   "cell_type": "markdown",
   "metadata": {},
   "source": [
    "## 量化投资有点\n",
    "1. 纪律性\n",
    "   - 三个模型：大类资产配置模型、行业模型、股票模型\n",
    "   - 依靠模型，相信模型，而不是凭感觉\n",
    "   - 纪律性好处：克服人性弱点，克服认知偏差、可跟踪\n",
    "- 系统性\n",
    "    - 多层次：大类资产、行业选择、精选个股\n",
    "    - 多角度：宏观周期、市场结构、估值、成长、盈利质量、分析师盈利预测、市场情绪等\n",
    "    - 多数据：海量数据\n",
    "- 套利思想\n",
    "    - 寻找估值洼地\n",
    "- 概率取胜\n",
    "    - 不断从历史中挖掘有望在未来重复的规律并加以利用\n",
    "    - 靠一组股票，而不是一支或几支股票\n",
    "    "
   ]
  },
  {
   "cell_type": "markdown",
   "metadata": {
    "ExecuteTime": {
     "end_time": "2019-03-27T12:37:16.430976Z",
     "start_time": "2019-03-27T12:37:16.427829Z"
    }
   },
   "source": [
    "## 应用\n",
    "1. 量化择时\n",
    "- 股指期货\n",
    "    - 股指期货套利：期现套利和跨期套利\n",
    "    - 研究：现货构建、套利定价、保证金管理、冲击成本、成分股调整等\n",
    "- 商品期货\n",
    "    - 不合理到合理的价格区间就是盈利部分\n",
    "- 统计套利\n",
    "    - 收益率序列建模，组合的Beta值等于零的前提下实现Alpha收益，称为“Beta中性策略”\n",
    "- 期权套利： 水平套利、垂直套利、转换套利、反向转换套利、跨式套利、蝶式套利、飞鹰式套利\n",
    "- 算法交易\n",
    "    - 被动型算法交易、主动型算法交易、综合型算法交易\n",
    "- 资产配置"
   ]
  },
  {
   "cell_type": "markdown",
   "metadata": {},
   "source": [
    "## 前景\n",
    "我国投资者投资理念不成熟，留给主动投资发掘市场非有效性，产生α收益的潜力和空间很大。\n"
   ]
  }
 ],
 "metadata": {
  "kernelspec": {
   "display_name": "Python 3",
   "language": "python",
   "name": "python3"
  },
  "language_info": {
   "codemirror_mode": {
    "name": "ipython",
    "version": 3
   },
   "file_extension": ".py",
   "mimetype": "text/x-python",
   "name": "python",
   "nbconvert_exporter": "python",
   "pygments_lexer": "ipython3",
   "version": "3.6.8"
  },
  "toc": {
   "base_numbering": 1,
   "nav_menu": {},
   "number_sections": true,
   "sideBar": true,
   "skip_h1_title": false,
   "title_cell": "Table of Contents",
   "title_sidebar": "Contents",
   "toc_cell": false,
   "toc_position": {},
   "toc_section_display": true,
   "toc_window_display": false
  }
 },
 "nbformat": 4,
 "nbformat_minor": 2
}
